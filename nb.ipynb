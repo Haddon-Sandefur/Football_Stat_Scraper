{
 "cells": [
  {
   "cell_type": "code",
   "execution_count": 3,
   "metadata": {},
   "outputs": [],
   "source": [
    "import pandas as pd\n",
    "import numpy as np\n",
    "import matplotlib as plt\n",
    "import sklearn as sk\n",
    "import bs4 as bs\n",
    "from urllib.request import urlopen\n",
    "import html5lib"
   ]
  },
  {
   "cell_type": "code",
   "execution_count": 4,
   "metadata": {},
   "outputs": [],
   "source": [
    "  links = pd.read_csv(r\"C:\\Users\\hadsa\\Desktop\\GS_Football\\Game_Links_Home_Michigan.txt\", names=['links'])\n",
    "  \n",
    "  result_df = []\n",
    "  result_names = []\n",
    "  result_result = []\n",
    "  \n",
    "  for _, link in links.links.items():\n",
    "      page = urlopen(link)\n",
    "      soup_obj = bs.BeautifulSoup(page, 'html.parser')\n",
    "      table = soup_obj.find_all('table')\n",
    "      df = pd.read_html(str(table))[1].transpose()\n",
    "      df.columns = df.iloc[0, :]\n",
    "      df = df.iloc[1:, :]\n",
    "      dfnames = pd.read_html(str(table))[0]\n",
    "      \n",
    "      \n",
    "      result_df.append(df)\n",
    "      result_names.append(dfnames)"
   ]
  },
  {
   "cell_type": "code",
   "execution_count": 5,
   "metadata": {},
   "outputs": [],
   "source": [
    "df_dict={}\n",
    "\n",
    "for i in range(len(result_df)):\n",
    "    df_dict[i] = result_df[i]\n",
    "\n",
    "df_name_dic = {}\n",
    "\n",
    "for i in range(len(result_names)):\n",
    "    df_name_dic[i] = result_names[i]"
   ]
  },
  {
   "cell_type": "code",
   "execution_count": 6,
   "metadata": {},
   "outputs": [],
   "source": [
    "for i in range(len(result_df)):\n",
    "    pd.DataFrame.from_dict(df_dict[i]).index.values[0] =  pd.DataFrame.from_dict(df_name_dic[i]).iloc[0][0]\n",
    "    pd.DataFrame.from_dict(df_dict[i]).index.values[1] =  pd.DataFrame.from_dict(df_name_dic[i]).iloc[1][0]"
   ]
  },
  {
   "cell_type": "code",
   "execution_count": 31,
   "metadata": {},
   "outputs": [
    {
     "data": {
      "text/plain": [
       "HAW     37\n",
       "MICH    22\n",
       "Name: Comp-Att, dtype: object"
      ]
     },
     "execution_count": 31,
     "metadata": {},
     "output_type": "execute_result"
    }
   ],
   "source": [
    "pd.DataFrame.from_dict(df_dict[1]).loc[:,\"Comp-Att\"].str[:2]\n",
    "pd.DataFrame.from_dict(df_dict[1]).loc[:,\"Comp-Att\"].str[3:]"
   ]
  }
 ],
 "metadata": {
  "interpreter": {
   "hash": "93a9186c9d0f91529a252bcb881b6b1b701741eb204f751f2540791ea51dfd00"
  },
  "kernelspec": {
   "display_name": "Python 3.9.7 ('base')",
   "language": "python",
   "name": "python3"
  },
  "language_info": {
   "codemirror_mode": {
    "name": "ipython",
    "version": 3
   },
   "file_extension": ".py",
   "mimetype": "text/x-python",
   "name": "python",
   "nbconvert_exporter": "python",
   "pygments_lexer": "ipython3",
   "version": "3.9.7"
  },
  "orig_nbformat": 4
 },
 "nbformat": 4,
 "nbformat_minor": 2
}
