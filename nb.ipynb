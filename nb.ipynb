{
 "cells": [
  {
   "cell_type": "code",
   "execution_count": 1,
   "metadata": {},
   "outputs": [],
   "source": [
    "import pandas as pd\n",
    "import numpy as np\n",
    "import matplotlib as plt\n",
    "import sklearn as sk\n",
    "import bs4 as bs\n",
    "from urllib.request import urlopen\n",
    "import html5lib"
   ]
  },
  {
   "cell_type": "code",
   "execution_count": 2,
   "metadata": {},
   "outputs": [],
   "source": [
    "# The act of scraping ESPN's website of juicy football stats.\n",
    "links = pd.read_csv(r\"Game_Links_Home_Michigan.txt\", names=['links'])\n",
    "  \n",
    "result_df = []\n",
    "result_names = []\n",
    "result_result = []\n",
    "  \n",
    "for _, link in links.links.items():\n",
    "    page = urlopen(link)\n",
    "    soup_obj = bs.BeautifulSoup(page, 'html.parser')\n",
    "    table = soup_obj.find_all('table')\n",
    "    df = pd.read_html(str(table))[1].transpose()\n",
    "    df.columns = df.iloc[0, :]\n",
    "    df = df.iloc[1:, :]\n",
    "    dfnames = pd.read_html(str(table))[0]\n",
    "      \n",
    "      \n",
    "    result_df.append(df)\n",
    "    result_names.append(dfnames)"
   ]
  },
  {
   "cell_type": "code",
   "execution_count": 4,
   "metadata": {},
   "outputs": [],
   "source": [
    "# Python isn't directly comparable to R's list functionality. Instead, we use dictionaries. Here, we're making a \"dummy R list\", taking the list of tables read from the prior cell and storing them in the dictionary (indexed i =  1,2,...,n).\n",
    "\n",
    "df_dict={}\n",
    "\n",
    "for i in range(len(result_df)):\n",
    "    df_dict[i] = result_df[i]\n",
    "\n",
    "df_name_dic = {}\n",
    "\n",
    "for i in range(len(result_names)):\n",
    "    df_name_dic[i] = result_names[i]"
   ]
  },
  {
   "cell_type": "code",
   "execution_count": 13,
   "metadata": {},
   "outputs": [],
   "source": [
    "# So far, stats tables for each team is unnamed. This code takes the name abbreviations from the scoreboard table (html) and puts them into the rows here so we know which team the stats represent.\n",
    "\n",
    "for i in range(len(result_df)):\n",
    "    pd.DataFrame.from_dict(df_dict[i]).index.values[0] =  pd.DataFrame.from_dict(df_name_dic[i]).iloc[0][0]\n",
    "    pd.DataFrame.from_dict(df_dict[i]).index.values[1] =  pd.DataFrame.from_dict(df_name_dic[i]).iloc[1][0]"
   ]
  },
  {
   "cell_type": "code",
   "execution_count": 10,
   "metadata": {},
   "outputs": [
    {
     "name": "stdout",
     "output_type": "stream",
     "text": [
      "Team Stats 1st Downs 3rd down efficiency 4th down efficiency Total Yards  \\\n",
      "Unnamed: 1        14                2-11                 1-4         219   \n",
      "Unnamed: 2        25                3-10                 2-2         440   \n",
      "\n",
      "Team Stats Passing Comp-Att Yards per pass Interceptions thrown Rushing  \\\n",
      "Unnamed: 1     137    16-20            6.9                    1      82   \n",
      "Unnamed: 2     206    18-28            7.4                    0     234   \n",
      "\n",
      "Team Stats Rushing Attempts Yards per rush Penalties Turnovers Fumbles lost  \\\n",
      "Unnamed: 1               39            2.1       0-0         2            1   \n",
      "Unnamed: 2               40            5.9      1-10         0            0   \n",
      "\n",
      "Team Stats Interceptions thrown Possession  \n",
      "Unnamed: 1                    1      29:30  \n",
      "Unnamed: 2                    0      30:30  \n"
     ]
    },
    {
     "data": {
      "text/plain": [
       "Unnamed: 1    20\n",
       "Unnamed: 2    28\n",
       "Name: Comp-Att, dtype: object"
      ]
     },
     "execution_count": 10,
     "metadata": {},
     "output_type": "execute_result"
    }
   ],
   "source": [
    "# Start of reformatting...\n",
    "print(df_dict[0])\n",
    "\n",
    "pd.DataFrame.from_dict(df_dict[0]).loc[:,\"Comp-Att\"].str[:2]\n",
    "pd.DataFrame.from_dict(df_dict[0]).loc[:,\"Comp-Att\"].str[3:]\n",
    "\n"
   ]
  },
  {
   "cell_type": "code",
   "execution_count": 7,
   "metadata": {},
   "outputs": [],
   "source": [
    "for i in range(len(result_df)):\n",
    "    pd.DataFrame.from_dict(df_name_dic[i])"
   ]
  },
  {
   "cell_type": "code",
   "execution_count": 12,
   "metadata": {},
   "outputs": [],
   "source": [
    "df_series = pd.Series(df_dict)"
   ]
  },
  {
   "cell_type": "code",
   "execution_count": 34,
   "metadata": {},
   "outputs": [
    {
     "data": {
      "text/plain": [
       "Unnamed: 1    13-37\n",
       "Unnamed: 2    17-22\n",
       "Name: Comp-Att, dtype: object"
      ]
     },
     "execution_count": 34,
     "metadata": {},
     "output_type": "execute_result"
    }
   ],
   "source": [
    "df_series[1].loc[:,\"Comp-Att\"]"
   ]
  }
 ],
 "metadata": {
  "interpreter": {
   "hash": "93a9186c9d0f91529a252bcb881b6b1b701741eb204f751f2540791ea51dfd00"
  },
  "kernelspec": {
   "display_name": "Python 3.9.7 ('base')",
   "language": "python",
   "name": "python3"
  },
  "language_info": {
   "codemirror_mode": {
    "name": "ipython",
    "version": 3
   },
   "file_extension": ".py",
   "mimetype": "text/x-python",
   "name": "python",
   "nbconvert_exporter": "python",
   "pygments_lexer": "ipython3",
   "version": "3.9.7"
  },
  "orig_nbformat": 4
 },
 "nbformat": 4,
 "nbformat_minor": 2
}
