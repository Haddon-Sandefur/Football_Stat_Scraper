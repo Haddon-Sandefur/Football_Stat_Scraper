{
 "cells": [
  {
   "cell_type": "code",
   "execution_count": 2,
   "metadata": {},
   "outputs": [],
   "source": [
    "import pandas as pd\n",
    "import numpy as np\n",
    "import matplotlib as plot\n",
    "import os \n",
    "\n",
    "from sklearn import model_selection\n",
    "from sklearn.linear_model import LogisticRegression\n",
    "from sklearn import metrics\n"
   ]
  },
  {
   "cell_type": "code",
   "execution_count": 35,
   "metadata": {},
   "outputs": [
    {
     "data": {
      "text/html": [
       "<div>\n",
       "<style scoped>\n",
       "    .dataframe tbody tr th:only-of-type {\n",
       "        vertical-align: middle;\n",
       "    }\n",
       "\n",
       "    .dataframe tbody tr th {\n",
       "        vertical-align: top;\n",
       "    }\n",
       "\n",
       "    .dataframe thead th {\n",
       "        text-align: right;\n",
       "    }\n",
       "</style>\n",
       "<table border=\"1\" class=\"dataframe\">\n",
       "  <thead>\n",
       "    <tr style=\"text-align: right;\">\n",
       "      <th></th>\n",
       "      <th>diff_Turnovers</th>\n",
       "      <th>diff_Passing</th>\n",
       "      <th>diff_Possession</th>\n",
       "      <th>diff_Rushing</th>\n",
       "      <th>Result_num</th>\n",
       "    </tr>\n",
       "  </thead>\n",
       "  <tbody>\n",
       "    <tr>\n",
       "      <th>1</th>\n",
       "      <td>1</td>\n",
       "      <td>102</td>\n",
       "      <td>2.80</td>\n",
       "      <td>-111</td>\n",
       "      <td>0</td>\n",
       "    </tr>\n",
       "    <tr>\n",
       "      <th>2</th>\n",
       "      <td>-1</td>\n",
       "      <td>-83</td>\n",
       "      <td>-10.00</td>\n",
       "      <td>162</td>\n",
       "      <td>1</td>\n",
       "    </tr>\n",
       "    <tr>\n",
       "      <th>3</th>\n",
       "      <td>-1</td>\n",
       "      <td>21</td>\n",
       "      <td>13.54</td>\n",
       "      <td>99</td>\n",
       "      <td>1</td>\n",
       "    </tr>\n",
       "    <tr>\n",
       "      <th>4</th>\n",
       "      <td>-2</td>\n",
       "      <td>51</td>\n",
       "      <td>-14.16</td>\n",
       "      <td>-223</td>\n",
       "      <td>0</td>\n",
       "    </tr>\n",
       "    <tr>\n",
       "      <th>5</th>\n",
       "      <td>-4</td>\n",
       "      <td>90</td>\n",
       "      <td>13.70</td>\n",
       "      <td>96</td>\n",
       "      <td>1</td>\n",
       "    </tr>\n",
       "  </tbody>\n",
       "</table>\n",
       "</div>"
      ],
      "text/plain": [
       "   diff_Turnovers  diff_Passing  diff_Possession  diff_Rushing  Result_num\n",
       "1               1           102             2.80          -111           0\n",
       "2              -1           -83           -10.00           162           1\n",
       "3              -1            21            13.54            99           1\n",
       "4              -2            51           -14.16          -223           0\n",
       "5              -4            90            13.70            96           1"
      ]
     },
     "execution_count": 35,
     "metadata": {},
     "output_type": "execute_result"
    }
   ],
   "source": [
    "# Set Directory\n",
    "os.chdir(\"\")\n",
    "\n",
    "# Read Data For Testing/Training\n",
    "df = pd.read_table(\"master_set.txt\", sep=\" \").drop(columns=[\"Result\", \"Opponent\", \"Team\", \"diff_Score\", \"Power\"])"
   ]
  },
  {
   "cell_type": "code",
   "execution_count": 4,
   "metadata": {},
   "outputs": [],
   "source": [
    "# Function that takes Season Averages and takes difference. (Order Sensitive)\n",
    "# You need the conference for each team. Team names must be written as expressed in their file.\n",
    "def team_diffs(conference1, team1, conference2, team2):\n",
    "    my_string1 = [\"Games/\", conference1, \"/\", team1,\"_22_season_diffs_mean.txt\"] # Team One File Path\n",
    "    my_string2 = [\"Games/\", conference2, \"/\", team2,\"_22_season_diffs_mean.txt\"] # Team Two File Path\n",
    "    team1_avg = pd.read_table(\"\".join(my_string1), sep=\" \") # Read Team 1 Data\n",
    "    team2_avg = pd.read_table(\"\".join(my_string2), sep=\" \") # Read Team 2 Data\n",
    "    diff_df = team1_avg.subtract(team2_avg) # Subtract Team Averages\n",
    "    return(diff_df)\n"
   ]
  },
  {
   "cell_type": "code",
   "execution_count": 39,
   "metadata": {},
   "outputs": [],
   "source": [
    "# Test Train Split using Sci-Kit Learn (25% Test Set Size, Training on the Coded Result of a game (Win or Loss))\n",
    "\n",
    "x_train, x_test, y_train, y_test = model_selection.train_test_split(df.drop(columns=[\"Result_num\"]), df[\"Result_num\"], test_size=0.25, random_state=0)"
   ]
  },
  {
   "cell_type": "code",
   "execution_count": 40,
   "metadata": {},
   "outputs": [],
   "source": [
    "# Define Logistic Model\n",
    "\n",
    "logr = LogisticRegression(max_iter=1000)"
   ]
  },
  {
   "cell_type": "code",
   "execution_count": 41,
   "metadata": {},
   "outputs": [],
   "source": [
    "# Fit Logistic Model\n",
    "\n",
    "fit1 = logr.fit(x_train, y_train)"
   ]
  },
  {
   "cell_type": "code",
   "execution_count": 42,
   "metadata": {},
   "outputs": [],
   "source": [
    "# Check General Performance\n",
    "\n",
    "pred  = fit1.predict(x_test)"
   ]
  },
  {
   "cell_type": "code",
   "execution_count": 43,
   "metadata": {},
   "outputs": [
    {
     "data": {
      "text/plain": [
       "array([[125,  17],\n",
       "       [ 21, 161]], dtype=int64)"
      ]
     },
     "execution_count": 43,
     "metadata": {},
     "output_type": "execute_result"
    }
   ],
   "source": [
    "# Performs as expected for a logit-regression. (Below is a confusion Matrix)\n",
    "\n",
    "metrics.confusion_matrix(y_test, pred)"
   ]
  },
  {
   "cell_type": "code",
   "execution_count": 47,
   "metadata": {},
   "outputs": [],
   "source": [
    "# Test Case Prediction. Have to drop the diff_Score column since it's not present in the model.\n",
    "\n",
    "game_pred = team_diffs(\"SEC\", \"Georgia\", \"Big10\", \"Ohio_State\" ).drop(columns=\"diff_Score\")"
   ]
  },
  {
   "cell_type": "code",
   "execution_count": 88,
   "metadata": {},
   "outputs": [
    {
     "data": {
      "text/plain": [
       "1"
      ]
     },
     "execution_count": 88,
     "metadata": {},
     "output_type": "execute_result"
    }
   ],
   "source": [
    "# UGA beats Ohio State\n",
    "\n",
    "fit1.predict(game_pred)[0]"
   ]
  },
  {
   "cell_type": "code",
   "execution_count": 82,
   "metadata": {},
   "outputs": [],
   "source": [
    "# Since I'm still a novice in Python, I don't know of an efficient way to do this... so here's a bunch of matchups.\n",
    "\n",
    "UGAvOSU = team_diffs(\"SEC\", \"Georgia\", \"Big10\", \"Ohio_State\" ).drop(columns=\"diff_Score\")\n",
    "\n",
    "GSvBUFF = team_diffs(\"Sun Belt\", \"Georgia_Southern\", \"MAC\", \"Buffalo\" ).drop(columns=\"diff_Score\")\n",
    "\n",
    "DUKEvUCF = team_diffs(\"ACC\", \"Duke\", \"AAC\", \"UCF\" ).drop(columns=\"diff_Score\")\n",
    "\n",
    "MICHvTCU = team_diffs(\"Big10\", \"Michigan\", \"Big12\", \"TCU\" ).drop(columns=\"diff_Score\")\n",
    "\n",
    "MTvSDSU = team_diffs(\"CUSA\", \"Middle_Tennessee\", \"MountainWest\", \"San_Diego_State\" ).drop(columns=\"diff_Score\")\n",
    "\n",
    "MEMPvUTST = team_diffs(\"AAC\", \"Memphis\", \"MountainWest\", \"Utah_State\" ).drop(columns=\"diff_Score\")\n",
    "\n",
    "CCUvECU = team_diffs(\"Sun Belt\", \"Coastal_Carolina\", \"AAC\", \"East_Carolina\" ).drop(columns=\"diff_Score\")\n",
    "\n",
    "WISCvOKST = team_diffs(\"Big10\", \"Wisconsin\", \"Big12\", \"Oklahoma_State\" ).drop(columns=\"diff_Score\")\n",
    "\n",
    "KANvARK = team_diffs(\"Big12\", \"Kansas\", \"SEC\", \"Arkansas\" ).drop(columns=\"diff_Score\")\n",
    "\n",
    "OREvUNC = team_diffs(\"PAC12\", \"Oregon\", \"ACC\", \"North_Carolina\" ).drop(columns=\"diff_Score\")\n",
    "\n",
    "TTvOLEM = team_diffs(\"Big12\", \"Texas_Tech\", \"SEC\", \"Ole_Miss\" ).drop(columns=\"diff_Score\")\n",
    "\n",
    "OKLvFSU = team_diffs(\"Big12\", \"Oklahoma\", \"ACC\", \"Florida_State\" ).drop(columns=\"diff_Score\")\n",
    "\n",
    "TEXvWASH = team_diffs(\"Big12\", \"Texas\", \"PAC12\", \"Washington\" ).drop(columns=\"diff_Score\")\n",
    "\n",
    "TENNvCLEM = team_diffs(\"SEC\", \"Tennessee\", \"ACC\", \"Clemson\" ).drop(columns=\"diff_Score\")\n",
    "\n",
    "BAMAvKSTATE = team_diffs(\"SEC\", \"Alabama\", \"Big12\", \"Kansas_State\" ).drop(columns=\"diff_Score\")\n",
    "\n",
    "IOWAvKEN = team_diffs(\"Big10\", \"Iowa\", \"SEC\", \"Kentucky\" ).drop(columns=\"diff_Score\")\n",
    "\n",
    "UGAvMICH = team_diffs(\"SEC\", \"Georgia\", \"Big10\", \"Michigan\" ).drop(columns=\"diff_Score\")\n",
    "\n"
   ]
  },
  {
   "cell_type": "code",
   "execution_count": 83,
   "metadata": {},
   "outputs": [],
   "source": [
    "# Putting matchups in a list\n",
    "\n",
    "games = [UGAvOSU, GSvBUFF, DUKEvUCF,\n",
    "            MICHvTCU, MTvSDSU, MEMPvUTST,\n",
    "            CCUvECU, WISCvOKST, KANvARK,\n",
    "            OREvUNC, TTvOLEM, OKLvFSU,\n",
    "            TEXvWASH, TENNvCLEM, BAMAvKSTATE,\n",
    "            IOWAvKEN, UGAvMICH]"
   ]
  },
  {
   "cell_type": "code",
   "execution_count": 84,
   "metadata": {},
   "outputs": [],
   "source": [
    "# Generating a dictionary so I can point to the predicted game results quickly in a loop.\n",
    "game_dic = {}\n",
    "\n",
    "for i in range(len(games)):\n",
    "    game_dic[i] = games[i]\n"
   ]
  },
  {
   "cell_type": "code",
   "execution_count": 85,
   "metadata": {},
   "outputs": [
    {
     "name": "stdout",
     "output_type": "stream",
     "text": [
      "[1]\n",
      "[0]\n",
      "[1]\n",
      "[1]\n",
      "[1]\n",
      "[1]\n",
      "[0]\n",
      "[1]\n",
      "[1]\n",
      "[1]\n",
      "[0]\n",
      "[0]\n",
      "[1]\n",
      "[1]\n",
      "[1]\n",
      "[0]\n",
      "[0]\n"
     ]
    }
   ],
   "source": [
    "# Said loop for prediction.\n",
    "\n",
    "for i in range(len(game_dic)):\n",
    "  print(fit1.predict(game_dic[i]))\n",
    "    "
   ]
  },
  {
   "cell_type": "code",
   "execution_count": 87,
   "metadata": {},
   "outputs": [
    {
     "data": {
      "text/plain": [
       "array([1], dtype=int64)"
      ]
     },
     "execution_count": 87,
     "metadata": {},
     "output_type": "execute_result"
    }
   ],
   "source": [
    "fit1.predict(team_diffs(\"ACC\", \"Wake_Forest\", \"SEC\", \"Missouri\" ).drop(columns=\"diff_Score\"))"
   ]
  }
 ],
 "metadata": {
  "kernelspec": {
   "display_name": "base",
   "language": "python",
   "name": "python3"
  },
  "language_info": {
   "codemirror_mode": {
    "name": "ipython",
    "version": 3
   },
   "file_extension": ".py",
   "mimetype": "text/x-python",
   "name": "python",
   "nbconvert_exporter": "python",
   "pygments_lexer": "ipython3",
   "version": "3.9.13"
  },
  "orig_nbformat": 4,
  "vscode": {
   "interpreter": {
    "hash": "789e555ebd0c84c4f1fafb83e1baff4aa0cee0ea71b75ac0e5cc027ef8d84c50"
   }
  }
 },
 "nbformat": 4,
 "nbformat_minor": 2
}
